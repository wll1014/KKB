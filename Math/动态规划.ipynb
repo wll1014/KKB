{
 "cells": [
  {
   "cell_type": "code",
   "execution_count": 53,
   "metadata": {},
   "outputs": [],
   "source": [
    "price = [1,5,8,9,10,17,17,20,24,25]"
   ]
  },
  {
   "cell_type": "code",
   "execution_count": 54,
   "metadata": {},
   "outputs": [],
   "source": [
    "from collections import defaultdict"
   ]
  },
  {
   "cell_type": "code",
   "execution_count": 55,
   "metadata": {},
   "outputs": [],
   "source": [
    "length_and_price = defaultdict(int)"
   ]
  },
  {
   "cell_type": "code",
   "execution_count": 56,
   "metadata": {},
   "outputs": [],
   "source": [
    "for i,p in enumerate(price):\n",
    "    length_and_price[i+1] = p"
   ]
  },
  {
   "cell_type": "code",
   "execution_count": 57,
   "metadata": {},
   "outputs": [
    {
     "data": {
      "text/plain": [
       "defaultdict(int,\n",
       "            {1: 1,\n",
       "             2: 5,\n",
       "             3: 8,\n",
       "             4: 9,\n",
       "             5: 10,\n",
       "             6: 17,\n",
       "             7: 17,\n",
       "             8: 20,\n",
       "             9: 24,\n",
       "             10: 25})"
      ]
     },
     "execution_count": 57,
     "metadata": {},
     "output_type": "execute_result"
    }
   ],
   "source": [
    "length_and_price"
   ]
  },
  {
   "cell_type": "code",
   "execution_count": 10,
   "metadata": {},
   "outputs": [],
   "source": [
    "n = 20    "
   ]
  },
  {
   "cell_type": "code",
   "execution_count": 15,
   "metadata": {},
   "outputs": [],
   "source": [
    "candidates = [(i,n-i) for i in range(n)]"
   ]
  },
  {
   "cell_type": "code",
   "execution_count": 17,
   "metadata": {},
   "outputs": [
    {
     "data": {
      "text/plain": [
       "[(0, 20),\n",
       " (1, 19),\n",
       " (2, 18),\n",
       " (3, 17),\n",
       " (4, 16),\n",
       " (5, 15),\n",
       " (6, 14),\n",
       " (7, 13),\n",
       " (8, 12),\n",
       " (9, 11),\n",
       " (10, 10),\n",
       " (11, 9),\n",
       " (12, 8),\n",
       " (13, 7),\n",
       " (14, 6),\n",
       " (15, 5),\n",
       " (16, 4),\n",
       " (17, 3),\n",
       " (18, 2),\n",
       " (19, 1)]"
      ]
     },
     "execution_count": 17,
     "metadata": {},
     "output_type": "execute_result"
    }
   ],
   "source": [
    "candidates"
   ]
  },
  {
   "cell_type": "code",
   "execution_count": 26,
   "metadata": {},
   "outputs": [],
   "source": [
    "price_n = 0;candidate = ()"
   ]
  },
  {
   "cell_type": "code",
   "execution_count": 27,
   "metadata": {},
   "outputs": [],
   "source": [
    "for (i,j) in candidates:\n",
    "    price_candidate = length_and_price[i]+length_and_price[j]\n",
    "\n",
    "    if price_candidate>price_n:\n",
    "        price_n = price_candidate\n",
    "        candidate = (i,j)"
   ]
  },
  {
   "cell_type": "code",
   "execution_count": 28,
   "metadata": {},
   "outputs": [
    {
     "data": {
      "text/plain": [
       "25"
      ]
     },
     "execution_count": 28,
     "metadata": {},
     "output_type": "execute_result"
    }
   ],
   "source": [
    "price_n"
   ]
  },
  {
   "cell_type": "code",
   "execution_count": 29,
   "metadata": {},
   "outputs": [
    {
     "data": {
      "text/plain": [
       "(9, 11)"
      ]
     },
     "execution_count": 29,
     "metadata": {},
     "output_type": "execute_result"
    }
   ],
   "source": [
    "candidate"
   ]
  },
  {
   "cell_type": "code",
   "execution_count": 203,
   "metadata": {},
   "outputs": [],
   "source": [
    "solution = []\n",
    "def dynamic_program(n):\n",
    "    candidates = [(i,n-i) for i in range(n)]+[(n,0)]\n",
    "    price_n = length_and_price[n]\n",
    "    candidate=[]\n",
    "    for (i,j) in candidates:\n",
    "        price_candidate = length_and_price[i]+length_and_price[j]\n",
    "        if price_candidate>price_n:\n",
    "            price_n = price_candidate\n",
    "            candidate = [i, j]\n",
    "   \n",
    "    if len(candidate)>0:\n",
    "        print(candidate)\n",
    "        left = dynamic_program(candidate[0])\n",
    "        right = dynamic_program(candidate[1])\n",
    "        return left + right\n",
    "        \n",
    "    else:\n",
    "        \n",
    "        solution.append(n)\n",
    "        \n",
    "    return price_n\n",
    "  \n",
    "        "
   ]
  },
  {
   "cell_type": "code",
   "execution_count": 204,
   "metadata": {},
   "outputs": [
    {
     "name": "stdout",
     "output_type": "stream",
     "text": [
      "[10, 101]\n",
      "[4, 6]\n",
      "[2, 2]\n",
      "[10, 91]\n",
      "[4, 6]\n",
      "[2, 2]\n",
      "[10, 81]\n",
      "[4, 6]\n",
      "[2, 2]\n",
      "[10, 71]\n",
      "[4, 6]\n",
      "[2, 2]\n",
      "[10, 61]\n",
      "[4, 6]\n",
      "[2, 2]\n",
      "[10, 51]\n",
      "[4, 6]\n",
      "[2, 2]\n",
      "[10, 41]\n",
      "[4, 6]\n",
      "[2, 2]\n",
      "[10, 31]\n",
      "[4, 6]\n",
      "[2, 2]\n",
      "[10, 21]\n",
      "[4, 6]\n",
      "[2, 2]\n",
      "[10, 11]\n",
      "[4, 6]\n",
      "[2, 2]\n",
      "[2, 9]\n",
      "[3, 6]\n"
     ]
    },
    {
     "data": {
      "text/plain": [
       "300"
      ]
     },
     "execution_count": 204,
     "metadata": {},
     "output_type": "execute_result"
    }
   ],
   "source": [
    "dynamic_program(111)"
   ]
  },
  {
   "cell_type": "code",
   "execution_count": 205,
   "metadata": {},
   "outputs": [
    {
     "data": {
      "text/plain": [
       "[(1, 2), (3, 4)]"
      ]
     },
     "execution_count": 205,
     "metadata": {},
     "output_type": "execute_result"
    }
   ],
   "source": [
    "a"
   ]
  },
  {
   "cell_type": "code",
   "execution_count": 206,
   "metadata": {},
   "outputs": [
    {
     "data": {
      "text/plain": [
       "[2,\n",
       " 2,\n",
       " 6,\n",
       " 2,\n",
       " 2,\n",
       " 6,\n",
       " 2,\n",
       " 2,\n",
       " 6,\n",
       " 2,\n",
       " 2,\n",
       " 6,\n",
       " 2,\n",
       " 2,\n",
       " 6,\n",
       " 2,\n",
       " 2,\n",
       " 6,\n",
       " 2,\n",
       " 2,\n",
       " 6,\n",
       " 2,\n",
       " 2,\n",
       " 6,\n",
       " 2,\n",
       " 2,\n",
       " 6,\n",
       " 2,\n",
       " 2,\n",
       " 6,\n",
       " 2,\n",
       " 3,\n",
       " 6]"
      ]
     },
     "execution_count": 206,
     "metadata": {},
     "output_type": "execute_result"
    }
   ],
   "source": [
    "solution"
   ]
  },
  {
   "cell_type": "code",
   "execution_count": 207,
   "metadata": {},
   "outputs": [],
   "source": [
    "sum = 0\n",
    "for i in solution:\n",
    "    sum += length_and_price[i]"
   ]
  },
  {
   "cell_type": "code",
   "execution_count": 208,
   "metadata": {},
   "outputs": [
    {
     "data": {
      "text/plain": [
       "300"
      ]
     },
     "execution_count": 208,
     "metadata": {},
     "output_type": "execute_result"
    }
   ],
   "source": [
    "sum"
   ]
  },
  {
   "cell_type": "code",
   "execution_count": null,
   "metadata": {},
   "outputs": [],
   "source": []
  }
 ],
 "metadata": {
  "kernelspec": {
   "display_name": "Python 3",
   "language": "python",
   "name": "python3"
  },
  "language_info": {
   "codemirror_mode": {
    "name": "ipython",
    "version": 3
   },
   "file_extension": ".py",
   "mimetype": "text/x-python",
   "name": "python",
   "nbconvert_exporter": "python",
   "pygments_lexer": "ipython3",
   "version": "3.6.8"
  }
 },
 "nbformat": 4,
 "nbformat_minor": 2
}
