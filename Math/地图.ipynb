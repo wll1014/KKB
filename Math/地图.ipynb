{
 "cells": [
  {
   "cell_type": "code",
   "execution_count": 1,
   "metadata": {},
   "outputs": [],
   "source": [
    "%matplotlib inline"
   ]
  },
  {
   "cell_type": "code",
   "execution_count": 2,
   "metadata": {},
   "outputs": [],
   "source": [
    "simple_map={\n",
    "    'BJ':['WH','NJ'],\n",
    "    'NJ':['GZ','BJ'],\n",
    "    'GZ':['WH','NJ'],\n",
    "    'XA':['GZ','WH'],\n",
    "    'WH':['GZ','XA']\n",
    "}"
   ]
  },
  {
   "cell_type": "code",
   "execution_count": 3,
   "metadata": {},
   "outputs": [],
   "source": [
    "import networkx as nx"
   ]
  },
  {
   "cell_type": "code",
   "execution_count": 4,
   "metadata": {},
   "outputs": [],
   "source": [
    "graph = nx.Graph(simple_map)"
   ]
  },
  {
   "cell_type": "code",
   "execution_count": 6,
   "metadata": {},
   "outputs": [
    {
     "data": {
      "image/png": "[encoded data removed]",
      "text/plain": [
       "<Figure size 432x288 with 1 Axes>"
      ]
     },
     "metadata": {},
     "output_type": "display_data"
    }
   ],
   "source": [
    "nx.draw(graph,with_labels=True,fonts=80)"
   ]
  },
  {
   "cell_type": "code",
   "execution_count": 37,
   "metadata": {},
   "outputs": [],
   "source": [
    "def search(start_point,destionation,mapDict):\n",
    "    seen = []\n",
    "    did_not_seen = [start_point]\n",
    "    while len(did_not_seen)>=1:\n",
    "        current_node = did_not_seen.pop(0)\n",
    "        \n",
    "        if current_node in seen:\n",
    "            continue\n",
    "        \n",
    "        print(current_node,\" --->\")\n",
    "        adj = mapDict[current_node]\n",
    "        seen.append(current_node)\n",
    "        for node in adj:\n",
    "            if node==destionation:\n",
    "                print(\"Find the destionation \",destionation)\n",
    "        \n",
    "            did_not_seen.append(node)\n",
    "          \n",
    "            \n",
    "            \n",
    "        "
   ]
  },
  {
   "cell_type": "code",
   "execution_count": 38,
   "metadata": {},
   "outputs": [
    {
     "name": "stdout",
     "output_type": "stream",
     "text": [
      "BJ  --->\n",
      "WH  --->\n",
      "Find the destionation  XA\n",
      "NJ  --->\n",
      "GZ  --->\n",
      "XA  --->\n"
     ]
    }
   ],
   "source": [
    "search('BJ','XA',simple_map)"
   ]
  },
  {
   "cell_type": "code",
   "execution_count": null,
   "metadata": {},
   "outputs": [],
   "source": []
  }
 ],
 "metadata": {
  "kernelspec": {
   "display_name": "Python 3",
   "language": "python",
   "name": "python3"
  },
  "language_info": {
   "codemirror_mode": {
    "name": "ipython",
    "version": 3
   },
   "file_extension": ".py",
   "mimetype": "text/x-python",
   "name": "python",
   "nbconvert_exporter": "python",
   "pygments_lexer": "ipython3",
   "version": "3.6.8"
  }
 },
 "nbformat": 4,
 "nbformat_minor": 2
}
