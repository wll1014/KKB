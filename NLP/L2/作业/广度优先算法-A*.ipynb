{
 "cells": [
  {
   "cell_type": "code",
   "execution_count": 1,
   "metadata": {},
   "outputs": [],
   "source": [
    "from collections import defaultdict"
   ]
  },
  {
   "cell_type": "code",
   "execution_count": 2,
   "metadata": {},
   "outputs": [],
   "source": [
    "connect = defaultdict(list)"
   ]
  },
  {
   "cell_type": "code",
   "execution_count": 85,
   "metadata": {},
   "outputs": [],
   "source": [
    "connect['S'] = [['A',3],['D',4]]\n",
    "connect['A'] = [['S',3],['B',4],['D',5]]\n",
    "connect['C'] = [['B',4]]\n",
    "connect['B'] = [['A',4],['C',4],['E',5]]\n",
    "connect['D'] = [['S',4],['A',5],['E',2]]\n",
    "connect['E'] = [['D',2],['B',5],['F',4]]\n",
    "connect['F'] = [['E',4],['G',3]]\n",
    "connect['G'] = [['F',3]]"
   ]
  },
  {
   "cell_type": "code",
   "execution_count": 86,
   "metadata": {},
   "outputs": [
    {
     "data": {
      "text/plain": [
       "defaultdict(list,\n",
       "            {'S': [['A', 3], ['D', 4]],\n",
       "             'A': [['S', 3], ['B', 4], ['D', 5]],\n",
       "             'B': [['A', 4], ['C', 4], ['E', 5]],\n",
       "             'D': [['S', 4], ['A', 5], ['E', 2]],\n",
       "             'E': [['D', 2], ['B', 5], ['F', 4]],\n",
       "             'F': [['E', 4], ['G', 3]],\n",
       "             'C': [['B', 4]],\n",
       "             'G': [['F', 3]]})"
      ]
     },
     "execution_count": 86,
     "metadata": {},
     "output_type": "execute_result"
    }
   ],
   "source": [
    "connect"
   ]
  },
  {
   "cell_type": "code",
   "execution_count": 97,
   "metadata": {},
   "outputs": [],
   "source": [
    "def bfs_1(connect,start,target):#不排序的情况\n",
    "    pathes = [([start],0)]\n",
    "    while(pathes):\n",
    "        print(pathes)\n",
    "        pathItem = pathes.pop(0)\n",
    "        path = pathItem[0]\n",
    "        cost = pathItem[1]\n",
    "        lastnode = path[-1]\n",
    "        candidate = connect[lastnode]\n",
    "        for item in candidate:\n",
    "            if item[0] in path:\n",
    "                continue\n",
    "            new_path = path + [item[0]]\n",
    "            new_cost = cost + item[1]\n",
    "            if item[0] == target:\n",
    "                print(\"find the target \",target)\n",
    "                print(\"the target path is  \",new_path)\n",
    "                print(\"the cost to the target is \",new_cost)\n",
    "                print()\n",
    "                return \n",
    "            pathes.append((new_path,new_cost))\n"
   ]
  },
  {
   "cell_type": "code",
   "execution_count": 98,
   "metadata": {},
   "outputs": [
    {
     "name": "stdout",
     "output_type": "stream",
     "text": [
      "[(['S'], 0)]\n",
      "[(['S', 'A'], 3), (['S', 'D'], 4)]\n",
      "[(['S', 'D'], 4), (['S', 'A', 'B'], 7), (['S', 'A', 'D'], 8)]\n",
      "[(['S', 'A', 'B'], 7), (['S', 'A', 'D'], 8), (['S', 'D', 'A'], 9), (['S', 'D', 'E'], 6)]\n",
      "[(['S', 'A', 'D'], 8), (['S', 'D', 'A'], 9), (['S', 'D', 'E'], 6), (['S', 'A', 'B', 'C'], 11), (['S', 'A', 'B', 'E'], 12)]\n",
      "[(['S', 'D', 'A'], 9), (['S', 'D', 'E'], 6), (['S', 'A', 'B', 'C'], 11), (['S', 'A', 'B', 'E'], 12), (['S', 'A', 'D', 'E'], 10)]\n",
      "[(['S', 'D', 'E'], 6), (['S', 'A', 'B', 'C'], 11), (['S', 'A', 'B', 'E'], 12), (['S', 'A', 'D', 'E'], 10), (['S', 'D', 'A', 'B'], 13)]\n",
      "[(['S', 'A', 'B', 'C'], 11), (['S', 'A', 'B', 'E'], 12), (['S', 'A', 'D', 'E'], 10), (['S', 'D', 'A', 'B'], 13), (['S', 'D', 'E', 'B'], 11), (['S', 'D', 'E', 'F'], 10)]\n",
      "[(['S', 'A', 'B', 'E'], 12), (['S', 'A', 'D', 'E'], 10), (['S', 'D', 'A', 'B'], 13), (['S', 'D', 'E', 'B'], 11), (['S', 'D', 'E', 'F'], 10)]\n",
      "[(['S', 'A', 'D', 'E'], 10), (['S', 'D', 'A', 'B'], 13), (['S', 'D', 'E', 'B'], 11), (['S', 'D', 'E', 'F'], 10), (['S', 'A', 'B', 'E', 'D'], 14), (['S', 'A', 'B', 'E', 'F'], 16)]\n",
      "[(['S', 'D', 'A', 'B'], 13), (['S', 'D', 'E', 'B'], 11), (['S', 'D', 'E', 'F'], 10), (['S', 'A', 'B', 'E', 'D'], 14), (['S', 'A', 'B', 'E', 'F'], 16), (['S', 'A', 'D', 'E', 'B'], 15), (['S', 'A', 'D', 'E', 'F'], 14)]\n",
      "[(['S', 'D', 'E', 'B'], 11), (['S', 'D', 'E', 'F'], 10), (['S', 'A', 'B', 'E', 'D'], 14), (['S', 'A', 'B', 'E', 'F'], 16), (['S', 'A', 'D', 'E', 'B'], 15), (['S', 'A', 'D', 'E', 'F'], 14), (['S', 'D', 'A', 'B', 'C'], 17), (['S', 'D', 'A', 'B', 'E'], 18)]\n",
      "[(['S', 'D', 'E', 'F'], 10), (['S', 'A', 'B', 'E', 'D'], 14), (['S', 'A', 'B', 'E', 'F'], 16), (['S', 'A', 'D', 'E', 'B'], 15), (['S', 'A', 'D', 'E', 'F'], 14), (['S', 'D', 'A', 'B', 'C'], 17), (['S', 'D', 'A', 'B', 'E'], 18), (['S', 'D', 'E', 'B', 'A'], 15), (['S', 'D', 'E', 'B', 'C'], 15)]\n",
      "find the target  G\n",
      "the target path is   ['S', 'D', 'E', 'F', 'G']\n",
      "the cost to the target is  13\n",
      "\n"
     ]
    }
   ],
   "source": [
    "bfs_1(connect,'S','G')"
   ]
  },
  {
   "cell_type": "code",
   "execution_count": 99,
   "metadata": {},
   "outputs": [],
   "source": [
    "def bfs_2(connect,start,target):#排序的情况\n",
    "    pathes = [([start],0)]\n",
    "    while(pathes):\n",
    "        print(pathes)\n",
    "        pathItem = pathes.pop(0)\n",
    "        path = pathItem[0]\n",
    "        cost = pathItem[1]\n",
    "        lastnode = path[-1]\n",
    "        candidate = connect[lastnode]\n",
    "        for item in candidate:\n",
    "            if item[0] in path:\n",
    "                continue\n",
    "            new_path = path + [item[0]]\n",
    "            new_cost = cost + item[1]\n",
    "            if item[0] == target:\n",
    "                print(\"find the target \",target)\n",
    "                print(\"the target path is  \",new_path)\n",
    "                print(\"the cost to the target is \",new_cost)\n",
    "                print()\n",
    "                return \n",
    "            pathes.append((new_path,new_cost))\n",
    "            pathes = sorted(pathes, key=lambda s: s[1]) "
   ]
  },
  {
   "cell_type": "code",
   "execution_count": 100,
   "metadata": {},
   "outputs": [
    {
     "name": "stdout",
     "output_type": "stream",
     "text": [
      "[(['S'], 0)]\n",
      "[(['S', 'A'], 3), (['S', 'D'], 4)]\n",
      "[(['S', 'D'], 4), (['S', 'A', 'B'], 7), (['S', 'A', 'D'], 8)]\n",
      "[(['S', 'D', 'E'], 6), (['S', 'A', 'B'], 7), (['S', 'A', 'D'], 8), (['S', 'D', 'A'], 9)]\n",
      "[(['S', 'A', 'B'], 7), (['S', 'A', 'D'], 8), (['S', 'D', 'A'], 9), (['S', 'D', 'E', 'F'], 10), (['S', 'D', 'E', 'B'], 11)]\n",
      "[(['S', 'A', 'D'], 8), (['S', 'D', 'A'], 9), (['S', 'D', 'E', 'F'], 10), (['S', 'D', 'E', 'B'], 11), (['S', 'A', 'B', 'C'], 11), (['S', 'A', 'B', 'E'], 12)]\n",
      "[(['S', 'D', 'A'], 9), (['S', 'D', 'E', 'F'], 10), (['S', 'A', 'D', 'E'], 10), (['S', 'D', 'E', 'B'], 11), (['S', 'A', 'B', 'C'], 11), (['S', 'A', 'B', 'E'], 12)]\n",
      "[(['S', 'D', 'E', 'F'], 10), (['S', 'A', 'D', 'E'], 10), (['S', 'D', 'E', 'B'], 11), (['S', 'A', 'B', 'C'], 11), (['S', 'A', 'B', 'E'], 12), (['S', 'D', 'A', 'B'], 13)]\n",
      "find the target  G\n",
      "the target path is   ['S', 'D', 'E', 'F', 'G']\n",
      "the cost to the target is  13\n",
      "\n"
     ]
    }
   ],
   "source": [
    "bfs_2(connect,'S','G')"
   ]
  },
  {
   "cell_type": "code",
   "execution_count": 107,
   "metadata": {},
   "outputs": [],
   "source": [
    "preCosts = defaultdict(float)\n",
    "preCosts['S'] = 11\n",
    "preCosts['A'] = 10\n",
    "preCosts['B'] = 6.7\n",
    "preCosts['C'] = 4\n",
    "preCosts['D'] = 8.9\n",
    "preCosts['E'] = 6.9\n",
    "preCosts['F'] = 3\n"
   ]
  },
  {
   "cell_type": "code",
   "execution_count": 112,
   "metadata": {},
   "outputs": [],
   "source": [
    "def A_star(connect,start,target):#排序的情况\n",
    "    pathes = [([start],0,0)]\n",
    "    while(pathes):\n",
    "        print(pathes)\n",
    "        pathItem = pathes.pop(0)\n",
    "        \n",
    "        path = pathItem[0]\n",
    "        cost = pathItem[1]\n",
    "        preCost = pathItem[2]\n",
    "        \n",
    "        lastnode = path[-1]\n",
    "        candidate = connect[lastnode]\n",
    "        for item in candidate:\n",
    "            if item[0] in path:\n",
    "                continue\n",
    "            new_path = path + [item[0]]\n",
    "            new_cost = cost + item[1]\n",
    "            new_preCost = new_cost + preCosts[item[0]]\n",
    "            if item[0] == target:\n",
    "                print(\"find the target \",target)\n",
    "                print(\"the target path is  \",new_path)\n",
    "                print(\"the cost to the target is \",new_cost)\n",
    "                print(\"the preCost to the target is \",new_preCost)\n",
    "                print()\n",
    "                return \n",
    "            pathes.append((new_path,new_cost,new_preCost))\n",
    "            pathes = sorted(pathes, key=lambda s: s[2])"
   ]
  },
  {
   "cell_type": "code",
   "execution_count": 113,
   "metadata": {},
   "outputs": [
    {
     "name": "stdout",
     "output_type": "stream",
     "text": [
      "[(['S'], 0, 0)]\n",
      "[(['S', 'D'], 4, 12.9), (['S', 'A'], 3, 13)]\n",
      "[(['S', 'D', 'E'], 6, 12.9), (['S', 'A'], 3, 13), (['S', 'D', 'A'], 9, 19)]\n",
      "[(['S', 'A'], 3, 13), (['S', 'D', 'E', 'F'], 10, 13), (['S', 'D', 'E', 'B'], 11, 17.7), (['S', 'D', 'A'], 9, 19)]\n",
      "[(['S', 'D', 'E', 'F'], 10, 13), (['S', 'A', 'B'], 7, 13.7), (['S', 'A', 'D'], 8, 16.9), (['S', 'D', 'E', 'B'], 11, 17.7), (['S', 'D', 'A'], 9, 19)]\n",
      "find the target  G\n",
      "the target path is   ['S', 'D', 'E', 'F', 'G']\n",
      "the cost to the target is  13\n",
      "the preCost to the target is  13.0\n",
      "\n"
     ]
    }
   ],
   "source": [
    "A_star(connect,'S','G')"
   ]
  },
  {
   "cell_type": "code",
   "execution_count": 30,
   "metadata": {},
   "outputs": [],
   "source": []
  },
  {
   "cell_type": "code",
   "execution_count": 31,
   "metadata": {},
   "outputs": [
    {
     "data": {
      "text/plain": [
       "[4, 1, 2, 3, 4]"
      ]
     },
     "execution_count": 31,
     "metadata": {},
     "output_type": "execute_result"
    }
   ],
   "source": []
  },
  {
   "cell_type": "code",
   "execution_count": null,
   "metadata": {},
   "outputs": [],
   "source": []
  }
 ],
 "metadata": {
  "kernelspec": {
   "display_name": "Python 3",
   "language": "python",
   "name": "python3"
  },
  "language_info": {
   "codemirror_mode": {
    "name": "ipython",
    "version": 3
   },
   "file_extension": ".py",
   "mimetype": "text/x-python",
   "name": "python",
   "nbconvert_exporter": "python",
   "pygments_lexer": "ipython3",
   "version": "3.7.4"
  }
 },
 "nbformat": 4,
 "nbformat_minor": 2
}
