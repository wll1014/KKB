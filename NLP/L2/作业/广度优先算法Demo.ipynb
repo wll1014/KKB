{
 "cells": [
  {
   "cell_type": "code",
   "execution_count": 1,
   "metadata": {},
   "outputs": [],
   "source": [
    "from collections import defaultdict"
   ]
  },
  {
   "cell_type": "code",
   "execution_count": 2,
   "metadata": {},
   "outputs": [],
   "source": [
    "connect = defaultdict(list)"
   ]
  },
  {
   "cell_type": "code",
   "execution_count": 3,
   "metadata": {},
   "outputs": [
    {
     "data": {
      "text/plain": [
       "defaultdict(list, {})"
      ]
     },
     "execution_count": 3,
     "metadata": {},
     "output_type": "execute_result"
    }
   ],
   "source": [
    "connect"
   ]
  },
  {
   "cell_type": "code",
   "execution_count": 4,
   "metadata": {},
   "outputs": [],
   "source": [
    "connect['S'] = ['A','D']"
   ]
  },
  {
   "cell_type": "code",
   "execution_count": 5,
   "metadata": {},
   "outputs": [],
   "source": [
    "connect['A'] = ['S','B','D']"
   ]
  },
  {
   "cell_type": "code",
   "execution_count": 6,
   "metadata": {},
   "outputs": [],
   "source": [
    "connect['B'] = ['A','C','E']"
   ]
  },
  {
   "cell_type": "code",
   "execution_count": 7,
   "metadata": {},
   "outputs": [],
   "source": [
    "connect['D'] = ['S','A','E']"
   ]
  },
  {
   "cell_type": "code",
   "execution_count": 8,
   "metadata": {},
   "outputs": [],
   "source": [
    "connect['E'] = ['D','B','F']"
   ]
  },
  {
   "cell_type": "code",
   "execution_count": 9,
   "metadata": {},
   "outputs": [],
   "source": [
    "connect['F'] = ['E','G']"
   ]
  },
  {
   "cell_type": "code",
   "execution_count": 10,
   "metadata": {},
   "outputs": [
    {
     "data": {
      "text/plain": [
       "defaultdict(list,\n",
       "            {'S': ['A', 'D'],\n",
       "             'A': ['S', 'B', 'D'],\n",
       "             'B': ['A', 'C', 'E'],\n",
       "             'D': ['S', 'A', 'E'],\n",
       "             'E': ['D', 'B', 'F'],\n",
       "             'F': ['E', 'G']})"
      ]
     },
     "execution_count": 10,
     "metadata": {},
     "output_type": "execute_result"
    }
   ],
   "source": [
    "connect"
   ]
  },
  {
   "cell_type": "code",
   "execution_count": 11,
   "metadata": {},
   "outputs": [],
   "source": [
    "a=[1,2,3]"
   ]
  },
  {
   "cell_type": "code",
   "execution_count": 12,
   "metadata": {},
   "outputs": [
    {
     "data": {
      "text/plain": [
       "1"
      ]
     },
     "execution_count": 12,
     "metadata": {},
     "output_type": "execute_result"
    }
   ],
   "source": [
    "a.pop(0)"
   ]
  },
  {
   "cell_type": "code",
   "execution_count": 31,
   "metadata": {},
   "outputs": [],
   "source": [
    "def bfs(connect,start,dist):\n",
    "    \n",
    "    pathes = [[start]]\n",
    "    visited = set()\n",
    "    while(pathes):\n",
    "        print(pathes)\n",
    "        path = pathes.pop(0)\n",
    "        lastnode = path[-1]\n",
    "        candinate = connect[lastnode]\n",
    "        #if lastnode in visited:continue\n",
    "        for item in candinate:\n",
    "            if item in path: \n",
    "                continue\n",
    "            new_path = path+[item]\n",
    "            pathes.append(new_path)\n",
    "            if item==dist:\n",
    "                print(\"find the target \",dist)\n",
    "                print(\"the target path is  \",new_path)\n",
    "                print(\"the steps to the target is \",len(new_path))\n",
    "                print()\n",
    "        visited.add(lastnode)\n",
    "    \n",
    "    \n",
    "    "
   ]
  },
  {
   "cell_type": "code",
   "execution_count": 32,
   "metadata": {},
   "outputs": [
    {
     "name": "stdout",
     "output_type": "stream",
     "text": [
      "[['S']]\n",
      "[['S', 'A'], ['S', 'D']]\n",
      "[['S', 'D'], ['S', 'A', 'B'], ['S', 'A', 'D']]\n",
      "[['S', 'A', 'B'], ['S', 'A', 'D'], ['S', 'D', 'A'], ['S', 'D', 'E']]\n",
      "[['S', 'A', 'D'], ['S', 'D', 'A'], ['S', 'D', 'E'], ['S', 'A', 'B', 'C'], ['S', 'A', 'B', 'E']]\n",
      "[['S', 'D', 'A'], ['S', 'D', 'E'], ['S', 'A', 'B', 'C'], ['S', 'A', 'B', 'E'], ['S', 'A', 'D', 'E']]\n",
      "[['S', 'D', 'E'], ['S', 'A', 'B', 'C'], ['S', 'A', 'B', 'E'], ['S', 'A', 'D', 'E'], ['S', 'D', 'A', 'B']]\n",
      "[['S', 'A', 'B', 'C'], ['S', 'A', 'B', 'E'], ['S', 'A', 'D', 'E'], ['S', 'D', 'A', 'B'], ['S', 'D', 'E', 'B'], ['S', 'D', 'E', 'F']]\n",
      "[['S', 'A', 'B', 'E'], ['S', 'A', 'D', 'E'], ['S', 'D', 'A', 'B'], ['S', 'D', 'E', 'B'], ['S', 'D', 'E', 'F']]\n",
      "[['S', 'A', 'D', 'E'], ['S', 'D', 'A', 'B'], ['S', 'D', 'E', 'B'], ['S', 'D', 'E', 'F'], ['S', 'A', 'B', 'E', 'D'], ['S', 'A', 'B', 'E', 'F']]\n",
      "[['S', 'D', 'A', 'B'], ['S', 'D', 'E', 'B'], ['S', 'D', 'E', 'F'], ['S', 'A', 'B', 'E', 'D'], ['S', 'A', 'B', 'E', 'F'], ['S', 'A', 'D', 'E', 'B'], ['S', 'A', 'D', 'E', 'F']]\n",
      "[['S', 'D', 'E', 'B'], ['S', 'D', 'E', 'F'], ['S', 'A', 'B', 'E', 'D'], ['S', 'A', 'B', 'E', 'F'], ['S', 'A', 'D', 'E', 'B'], ['S', 'A', 'D', 'E', 'F'], ['S', 'D', 'A', 'B', 'C'], ['S', 'D', 'A', 'B', 'E']]\n",
      "[['S', 'D', 'E', 'F'], ['S', 'A', 'B', 'E', 'D'], ['S', 'A', 'B', 'E', 'F'], ['S', 'A', 'D', 'E', 'B'], ['S', 'A', 'D', 'E', 'F'], ['S', 'D', 'A', 'B', 'C'], ['S', 'D', 'A', 'B', 'E'], ['S', 'D', 'E', 'B', 'A'], ['S', 'D', 'E', 'B', 'C']]\n",
      "find the target  G\n",
      "the target path is   ['S', 'D', 'E', 'F', 'G']\n",
      "the steps to the target is  5\n",
      "\n",
      "[['S', 'A', 'B', 'E', 'D'], ['S', 'A', 'B', 'E', 'F'], ['S', 'A', 'D', 'E', 'B'], ['S', 'A', 'D', 'E', 'F'], ['S', 'D', 'A', 'B', 'C'], ['S', 'D', 'A', 'B', 'E'], ['S', 'D', 'E', 'B', 'A'], ['S', 'D', 'E', 'B', 'C'], ['S', 'D', 'E', 'F', 'G']]\n",
      "[['S', 'A', 'B', 'E', 'F'], ['S', 'A', 'D', 'E', 'B'], ['S', 'A', 'D', 'E', 'F'], ['S', 'D', 'A', 'B', 'C'], ['S', 'D', 'A', 'B', 'E'], ['S', 'D', 'E', 'B', 'A'], ['S', 'D', 'E', 'B', 'C'], ['S', 'D', 'E', 'F', 'G']]\n",
      "find the target  G\n",
      "the target path is   ['S', 'A', 'B', 'E', 'F', 'G']\n",
      "the steps to the target is  6\n",
      "\n",
      "[['S', 'A', 'D', 'E', 'B'], ['S', 'A', 'D', 'E', 'F'], ['S', 'D', 'A', 'B', 'C'], ['S', 'D', 'A', 'B', 'E'], ['S', 'D', 'E', 'B', 'A'], ['S', 'D', 'E', 'B', 'C'], ['S', 'D', 'E', 'F', 'G'], ['S', 'A', 'B', 'E', 'F', 'G']]\n",
      "[['S', 'A', 'D', 'E', 'F'], ['S', 'D', 'A', 'B', 'C'], ['S', 'D', 'A', 'B', 'E'], ['S', 'D', 'E', 'B', 'A'], ['S', 'D', 'E', 'B', 'C'], ['S', 'D', 'E', 'F', 'G'], ['S', 'A', 'B', 'E', 'F', 'G'], ['S', 'A', 'D', 'E', 'B', 'C']]\n",
      "find the target  G\n",
      "the target path is   ['S', 'A', 'D', 'E', 'F', 'G']\n",
      "the steps to the target is  6\n",
      "\n",
      "[['S', 'D', 'A', 'B', 'C'], ['S', 'D', 'A', 'B', 'E'], ['S', 'D', 'E', 'B', 'A'], ['S', 'D', 'E', 'B', 'C'], ['S', 'D', 'E', 'F', 'G'], ['S', 'A', 'B', 'E', 'F', 'G'], ['S', 'A', 'D', 'E', 'B', 'C'], ['S', 'A', 'D', 'E', 'F', 'G']]\n",
      "[['S', 'D', 'A', 'B', 'E'], ['S', 'D', 'E', 'B', 'A'], ['S', 'D', 'E', 'B', 'C'], ['S', 'D', 'E', 'F', 'G'], ['S', 'A', 'B', 'E', 'F', 'G'], ['S', 'A', 'D', 'E', 'B', 'C'], ['S', 'A', 'D', 'E', 'F', 'G']]\n",
      "[['S', 'D', 'E', 'B', 'A'], ['S', 'D', 'E', 'B', 'C'], ['S', 'D', 'E', 'F', 'G'], ['S', 'A', 'B', 'E', 'F', 'G'], ['S', 'A', 'D', 'E', 'B', 'C'], ['S', 'A', 'D', 'E', 'F', 'G'], ['S', 'D', 'A', 'B', 'E', 'F']]\n",
      "[['S', 'D', 'E', 'B', 'C'], ['S', 'D', 'E', 'F', 'G'], ['S', 'A', 'B', 'E', 'F', 'G'], ['S', 'A', 'D', 'E', 'B', 'C'], ['S', 'A', 'D', 'E', 'F', 'G'], ['S', 'D', 'A', 'B', 'E', 'F']]\n",
      "[['S', 'D', 'E', 'F', 'G'], ['S', 'A', 'B', 'E', 'F', 'G'], ['S', 'A', 'D', 'E', 'B', 'C'], ['S', 'A', 'D', 'E', 'F', 'G'], ['S', 'D', 'A', 'B', 'E', 'F']]\n",
      "[['S', 'A', 'B', 'E', 'F', 'G'], ['S', 'A', 'D', 'E', 'B', 'C'], ['S', 'A', 'D', 'E', 'F', 'G'], ['S', 'D', 'A', 'B', 'E', 'F']]\n",
      "[['S', 'A', 'D', 'E', 'B', 'C'], ['S', 'A', 'D', 'E', 'F', 'G'], ['S', 'D', 'A', 'B', 'E', 'F']]\n",
      "[['S', 'A', 'D', 'E', 'F', 'G'], ['S', 'D', 'A', 'B', 'E', 'F']]\n",
      "[['S', 'D', 'A', 'B', 'E', 'F']]\n",
      "find the target  G\n",
      "the target path is   ['S', 'D', 'A', 'B', 'E', 'F', 'G']\n",
      "the steps to the target is  7\n",
      "\n",
      "[['S', 'D', 'A', 'B', 'E', 'F', 'G']]\n"
     ]
    }
   ],
   "source": [
    "bfs(connect,'S',\"G\")"
   ]
  },
  {
   "cell_type": "code",
   "execution_count": 33,
   "metadata": {},
   "outputs": [],
   "source": [
    "def bfs1(connect,start,dist):\n",
    "    \n",
    "    pathes = [[start]]\n",
    "    visited = set()\n",
    "    while(pathes):\n",
    "        print(pathes)\n",
    "        path = pathes.pop(0)\n",
    "        lastnode = path[-1]\n",
    "        candinate = connect[lastnode]\n",
    "        if lastnode in visited:continue\n",
    "        for item in candinate:\n",
    "            if item in path: \n",
    "                continue\n",
    "            new_path = path+[item]\n",
    "            pathes.append(new_path)\n",
    "            if item==dist:\n",
    "                print(\"find the target \",dist)\n",
    "                print(\"the target path is  \",new_path)\n",
    "                print(\"the steps to the target is \",len(new_path))\n",
    "                print()\n",
    "        visited.add(lastnode)\n",
    "    \n",
    "    \n",
    "    "
   ]
  },
  {
   "cell_type": "code",
   "execution_count": 34,
   "metadata": {},
   "outputs": [
    {
     "name": "stdout",
     "output_type": "stream",
     "text": [
      "[['S']]\n",
      "[['S', 'A'], ['S', 'D']]\n",
      "[['S', 'D'], ['S', 'A', 'B'], ['S', 'A', 'D']]\n",
      "[['S', 'A', 'B'], ['S', 'A', 'D'], ['S', 'D', 'A'], ['S', 'D', 'E']]\n",
      "[['S', 'A', 'D'], ['S', 'D', 'A'], ['S', 'D', 'E'], ['S', 'A', 'B', 'C'], ['S', 'A', 'B', 'E']]\n",
      "[['S', 'D', 'A'], ['S', 'D', 'E'], ['S', 'A', 'B', 'C'], ['S', 'A', 'B', 'E']]\n",
      "[['S', 'D', 'E'], ['S', 'A', 'B', 'C'], ['S', 'A', 'B', 'E']]\n",
      "[['S', 'A', 'B', 'C'], ['S', 'A', 'B', 'E'], ['S', 'D', 'E', 'B'], ['S', 'D', 'E', 'F']]\n",
      "[['S', 'A', 'B', 'E'], ['S', 'D', 'E', 'B'], ['S', 'D', 'E', 'F']]\n",
      "[['S', 'D', 'E', 'B'], ['S', 'D', 'E', 'F']]\n",
      "[['S', 'D', 'E', 'F']]\n",
      "find the target  G\n",
      "the target path is   ['S', 'D', 'E', 'F', 'G']\n",
      "the steps to the target is  5\n",
      "\n",
      "[['S', 'D', 'E', 'F', 'G']]\n"
     ]
    }
   ],
   "source": [
    "bfs1(connect,'S',\"G\")"
   ]
  },
  {
   "cell_type": "code",
   "execution_count": null,
   "metadata": {},
   "outputs": [],
   "source": []
  }
 ],
 "metadata": {
  "kernelspec": {
   "display_name": "Python 3",
   "language": "python",
   "name": "python3"
  },
  "language_info": {
   "codemirror_mode": {
    "name": "ipython",
    "version": 3
   },
   "file_extension": ".py",
   "mimetype": "text/x-python",
   "name": "python",
   "nbconvert_exporter": "python",
   "pygments_lexer": "ipython3",
   "version": "3.7.4"
  }
 },
 "nbformat": 4,
 "nbformat_minor": 2
}
