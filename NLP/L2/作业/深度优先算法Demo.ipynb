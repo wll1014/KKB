{
 "cells": [
  {
   "cell_type": "code",
   "execution_count": 1,
   "metadata": {},
   "outputs": [],
   "source": [
    "from collections import defaultdict"
   ]
  },
  {
   "cell_type": "code",
   "execution_count": 9,
   "metadata": {},
   "outputs": [],
   "source": [
    "connect = defaultdict(list)"
   ]
  },
  {
   "cell_type": "code",
   "execution_count": 10,
   "metadata": {},
   "outputs": [],
   "source": [
    "connect['S'] = ['A','D']\n",
    "connect['A'] = ['S','B','D']\n",
    "connect['B'] = ['A','C','E']\n",
    "connect['D'] = ['S','A','E']\n",
    "connect['E'] = ['D','B','F']\n",
    "connect['F'] = ['E','G']"
   ]
  },
  {
   "cell_type": "code",
   "execution_count": 11,
   "metadata": {},
   "outputs": [
    {
     "data": {
      "text/plain": [
       "defaultdict(list,\n",
       "            {'S': ['A', 'D'],\n",
       "             'A': ['S', 'B', 'D'],\n",
       "             'B': ['A', 'C', 'E'],\n",
       "             'D': ['S', 'A', 'E'],\n",
       "             'E': ['D', 'B', 'F'],\n",
       "             'F': ['E', 'G']})"
      ]
     },
     "execution_count": 11,
     "metadata": {},
     "output_type": "execute_result"
    }
   ],
   "source": [
    "connect"
   ]
  },
  {
   "cell_type": "code",
   "execution_count": 16,
   "metadata": {},
   "outputs": [],
   "source": [
    "def dfs(connect,start,target):\n",
    "    pathes = [[start]]\n",
    "    visited = set()\n",
    "    while(pathes):\n",
    "        print(pathes)\n",
    "        path = pathes.pop(0)\n",
    "        lastnode = path[-1]\n",
    "        candidate = connect[lastnode]\n",
    "        candidatePathes = []\n",
    "        for item in candidate:\n",
    "            if item in path:\n",
    "                continue\n",
    "            new_path = path + [item]\n",
    "            if item== target:\n",
    "                print(\"find the target \",target)\n",
    "                print(\"the target path is  \",new_path)\n",
    "                print(\"the steps to the target is \",len(new_path))\n",
    "                print()\n",
    "            candidatePathes.append(new_path)\n",
    "        pathes = candidatePathes + pathes\n",
    "        visited.add(lastnode)\n",
    "        \n",
    "    "
   ]
  },
  {
   "cell_type": "code",
   "execution_count": 17,
   "metadata": {},
   "outputs": [
    {
     "name": "stdout",
     "output_type": "stream",
     "text": [
      "[['S']]\n",
      "[['S', 'A'], ['S', 'D']]\n",
      "[['S', 'A', 'B'], ['S', 'A', 'D'], ['S', 'D']]\n",
      "[['S', 'A', 'B', 'C'], ['S', 'A', 'B', 'E'], ['S', 'A', 'D'], ['S', 'D']]\n",
      "[['S', 'A', 'B', 'E'], ['S', 'A', 'D'], ['S', 'D']]\n",
      "[['S', 'A', 'B', 'E', 'D'], ['S', 'A', 'B', 'E', 'F'], ['S', 'A', 'D'], ['S', 'D']]\n",
      "[['S', 'A', 'B', 'E', 'F'], ['S', 'A', 'D'], ['S', 'D']]\n",
      "find the target  G\n",
      "the target path is   ['S', 'A', 'B', 'E', 'F', 'G']\n",
      "the steps to the target is  6\n",
      "\n",
      "[['S', 'A', 'B', 'E', 'F', 'G'], ['S', 'A', 'D'], ['S', 'D']]\n",
      "[['S', 'A', 'D'], ['S', 'D']]\n",
      "[['S', 'A', 'D', 'E'], ['S', 'D']]\n",
      "[['S', 'A', 'D', 'E', 'B'], ['S', 'A', 'D', 'E', 'F'], ['S', 'D']]\n",
      "[['S', 'A', 'D', 'E', 'B', 'C'], ['S', 'A', 'D', 'E', 'F'], ['S', 'D']]\n",
      "[['S', 'A', 'D', 'E', 'F'], ['S', 'D']]\n",
      "find the target  G\n",
      "the target path is   ['S', 'A', 'D', 'E', 'F', 'G']\n",
      "the steps to the target is  6\n",
      "\n",
      "[['S', 'A', 'D', 'E', 'F', 'G'], ['S', 'D']]\n",
      "[['S', 'D']]\n",
      "[['S', 'D', 'A'], ['S', 'D', 'E']]\n",
      "[['S', 'D', 'A', 'B'], ['S', 'D', 'E']]\n",
      "[['S', 'D', 'A', 'B', 'C'], ['S', 'D', 'A', 'B', 'E'], ['S', 'D', 'E']]\n",
      "[['S', 'D', 'A', 'B', 'E'], ['S', 'D', 'E']]\n",
      "[['S', 'D', 'A', 'B', 'E', 'F'], ['S', 'D', 'E']]\n",
      "find the target  G\n",
      "the target path is   ['S', 'D', 'A', 'B', 'E', 'F', 'G']\n",
      "the steps to the target is  7\n",
      "\n",
      "[['S', 'D', 'A', 'B', 'E', 'F', 'G'], ['S', 'D', 'E']]\n",
      "[['S', 'D', 'E']]\n",
      "[['S', 'D', 'E', 'B'], ['S', 'D', 'E', 'F']]\n",
      "[['S', 'D', 'E', 'B', 'A'], ['S', 'D', 'E', 'B', 'C'], ['S', 'D', 'E', 'F']]\n",
      "[['S', 'D', 'E', 'B', 'C'], ['S', 'D', 'E', 'F']]\n",
      "[['S', 'D', 'E', 'F']]\n",
      "find the target  G\n",
      "the target path is   ['S', 'D', 'E', 'F', 'G']\n",
      "the steps to the target is  5\n",
      "\n",
      "[['S', 'D', 'E', 'F', 'G']]\n"
     ]
    }
   ],
   "source": [
    "dfs(connect,'S','G')"
   ]
  },
  {
   "cell_type": "code",
   "execution_count": 19,
   "metadata": {},
   "outputs": [],
   "source": [
    "def dfs1(connect,start,target):\n",
    "    pathes = [[start]]\n",
    "    visited = set()\n",
    "    while(pathes):\n",
    "        print(pathes)\n",
    "        path = pathes.pop(0)\n",
    "        lastnode = path[-1]\n",
    "        if lastnode in visited:continue\n",
    "        candidate = connect[lastnode]\n",
    "        candidatePathes = []\n",
    "        for item in candidate:\n",
    "            if item in path:\n",
    "                continue\n",
    "            new_path = path + [item]\n",
    "            if item== target:\n",
    "                print(\"find the target \",target)\n",
    "                print(\"the target path is  \",new_path)\n",
    "                print(\"the steps to the target is \",len(new_path))\n",
    "                print()\n",
    "            candidatePathes.append(new_path)\n",
    "        pathes = candidatePathes + pathes\n",
    "        visited.add(lastnode)\n",
    "        \n",
    "    "
   ]
  },
  {
   "cell_type": "code",
   "execution_count": 20,
   "metadata": {},
   "outputs": [
    {
     "name": "stdout",
     "output_type": "stream",
     "text": [
      "[['S']]\n",
      "[['S', 'A'], ['S', 'D']]\n",
      "[['S', 'A', 'B'], ['S', 'A', 'D'], ['S', 'D']]\n",
      "[['S', 'A', 'B', 'C'], ['S', 'A', 'B', 'E'], ['S', 'A', 'D'], ['S', 'D']]\n",
      "[['S', 'A', 'B', 'E'], ['S', 'A', 'D'], ['S', 'D']]\n",
      "[['S', 'A', 'B', 'E', 'D'], ['S', 'A', 'B', 'E', 'F'], ['S', 'A', 'D'], ['S', 'D']]\n",
      "[['S', 'A', 'B', 'E', 'F'], ['S', 'A', 'D'], ['S', 'D']]\n",
      "find the target  G\n",
      "the target path is   ['S', 'A', 'B', 'E', 'F', 'G']\n",
      "the steps to the target is  6\n",
      "\n",
      "[['S', 'A', 'B', 'E', 'F', 'G'], ['S', 'A', 'D'], ['S', 'D']]\n",
      "[['S', 'A', 'D'], ['S', 'D']]\n",
      "[['S', 'D']]\n"
     ]
    }
   ],
   "source": [
    "dfs1(connect,'S','G')"
   ]
  },
  {
   "cell_type": "code",
   "execution_count": null,
   "metadata": {},
   "outputs": [],
   "source": []
  }
 ],
 "metadata": {
  "kernelspec": {
   "display_name": "Python 3",
   "language": "python",
   "name": "python3"
  },
  "language_info": {
   "codemirror_mode": {
    "name": "ipython",
    "version": 3
   },
   "file_extension": ".py",
   "mimetype": "text/x-python",
   "name": "python",
   "nbconvert_exporter": "python",
   "pygments_lexer": "ipython3",
   "version": "3.7.4"
  }
 },
 "nbformat": 4,
 "nbformat_minor": 2
}
